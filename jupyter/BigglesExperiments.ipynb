{
 "cells": [
  {
   "cell_type": "code",
   "execution_count": 2,
   "metadata": {},
   "outputs": [
    {
     "name": "stdout",
     "output_type": "stream",
     "text": [
      "Populating the interactive namespace from numpy and matplotlib\n"
     ]
    },
    {
     "name": "stderr",
     "output_type": "stream",
     "text": [
      "/home/slottad/plot/virtenv/hpgl/lib/python3.6/site-packages/IPython/core/magics/pylab.py:160: UserWarning: pylab import has clobbered these variables: ['plot']\n",
      "`%matplotlib` prevents importing * from pylab and numpy\n",
      "  \"\\n`%matplotlib` prevents importing * from pylab and numpy\"\n"
     ]
    }
   ],
   "source": [
    "from biggles import plot\n",
    "import numpy\n",
    "#import matplotlib\n",
    "#%matplotlib inline\n",
    "#import inline\n",
    "%pylab inline"
   ]
  },
  {
   "cell_type": "code",
   "execution_count": null,
   "metadata": {},
   "outputs": [],
   "source": [
    "x = numpy.arange(0, 100, 5)\n",
    "y = numpy.random.normal(40, 10, (len(x),))\n",
    "p = plot(x, y)\n",
    "p.dpi=50\n",
    "p"
   ]
  },
  {
   "cell_type": "code",
   "execution_count": null,
   "metadata": {},
   "outputs": [],
   "source": [
    "from biggles import *\n",
    "\n",
    "p = Plot()\n",
    "p.add(Circle(5,5,5), Circle(6,6,6))\n",
    "p.add(Line((2,3),(5,6)))\n",
    "p.add(Label(2,3,\"(2,3)\"))\n",
    "p.add(Label(5,6,\"(5,6)\"))\n",
    "p.add(Label(20,5,\"(20,5)\"))\n",
    "p\n"
   ]
  },
  {
   "cell_type": "code",
   "execution_count": null,
   "metadata": {},
   "outputs": [],
   "source": [
    "p = Plot()\n",
    "p.add(Box((0,0),(11,8.5)))\n",
    "p.add(Label(1,8,r\"Minimum, \\f2italic\\fP, \\f3bold\\fP, \\f4both\\fP\", size=6, halign='left', face='HersheySans'))\n",
    "p.add(Label(1,7,r\" fi, ff, fl, ffi, and ffl, sans\", size=6, halign='left', face='HersheySans'))\n",
    "p.add(Label(1,6,r\"Minimum, \\f2italic\\fP, \\f3bold\\fP, \\f4both\\fP\", size=6, halign='left', face='HersheySerif'))\n",
    "p.add(Label(1,5,r\" fi, ff, fl, ffi, and ffl, serif\", size=6, halign='left', face='HersheySerif'))\n",
    "p.add(Label(1,4,r\"Minimum, \\f2italic\\fP, \\f3bold\\fP, \\f4both\\fP\", size=6, halign='left', face='HersheyScript'))\n",
    "p.add(Label(1,3,r\" fi, ff, fl, ffi, and ffl, script\", size=6, halign='left', face='HersheyScript'))\n",
    "p.add(Label(1,2,r\"Minimum, \\f2italic\\fP, \\f3bold\\fP, \\f4both\\fP\", size=6, halign='left', face='HersheyGothicEnglish'))\n",
    "p.add(Label(1,1,r\" fi, ff, fl, ffi, and ffl, gothic english\", size=6, halign='left', face='HersheyGothicEnglish'))\n",
    "p"
   ]
  },
  {
   "cell_type": "code",
   "execution_count": null,
   "metadata": {},
   "outputs": [],
   "source": [
    "p = Plot()\n",
    "p.add(Box((0,0),(10,10)))\n",
    "for y in range(1,10):\n",
    "        p.add(Label(5,y,\"({})\".format(y), size=y/2.0, face='HersheySans'))\n",
    "        p.add(Line((4,y),(4,y+0.25)))\n",
    "p"
   ]
  },
  {
   "cell_type": "code",
   "execution_count": null,
   "metadata": {},
   "outputs": [],
   "source": [
    "import biggles.libplot as libplot\n",
    "import tempfile"
   ]
  },
  {
   "cell_type": "code",
   "execution_count": null,
   "metadata": {},
   "outputs": [],
   "source": [
    "class HpglRenderer(libplot.renderer.LibplotRenderer):\n",
    "\n",
    "    def __init__(self, width=600, height=800, bgcolor=\"white\"):\n",
    "        ll = 0, 0\n",
    "        ur = width, height\n",
    "        parameters = {\n",
    "            \"BITMAPSIZE\": \"%dx%d\" % (width, height),\n",
    "            \"BG_COLOR\":bgcolor,\n",
    "        }\n",
    "        super(HpglRenderer, self).__init__(ll, ur, \"hpgl\", parameters,)\n",
    "        \n",
    "    def _repr_png_(self):\n",
    "        \"\"\"\n",
    "        for jupyter notebook inline display\n",
    "        \"\"\"\n",
    "        import subprocess\n",
    "        import time\n",
    "        import io\n",
    "\n",
    "        if hasattr(self,'dpi'):\n",
    "            dpi=self.dpi\n",
    "        else:\n",
    "            dpi=55\n",
    "\n",
    "        fname = tempfile.mktemp(suffix='_biggles.png')\n",
    "        self.write(fname,dpi=dpi)\n",
    "\n",
    "        with open(fname,'rb') as fobj:\n",
    "            data=fobj.read()\n",
    "        os.unlink(fname)\n",
    "        return data\n"
   ]
  },
  {
   "cell_type": "code",
   "execution_count": null,
   "metadata": {},
   "outputs": [],
   "source": [
    "p = HpglRenderer()\n",
    "p"
   ]
  },
  {
   "cell_type": "code",
   "execution_count": null,
   "metadata": {},
   "outputs": [],
   "source": []
  }
 ],
 "metadata": {
  "kernelspec": {
   "display_name": "Python 3",
   "language": "python",
   "name": "python3"
  },
  "language_info": {
   "codemirror_mode": {
    "name": "ipython",
    "version": 3
   },
   "file_extension": ".py",
   "mimetype": "text/x-python",
   "name": "python",
   "nbconvert_exporter": "python",
   "pygments_lexer": "ipython3",
   "version": "3.6.6"
  }
 },
 "nbformat": 4,
 "nbformat_minor": 2
}
